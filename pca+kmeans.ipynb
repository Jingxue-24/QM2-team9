{
  "nbformat": 4,
  "nbformat_minor": 0,
  "metadata": {
    "colab": {
      "name": "pca+kmeans.ipynb",
      "provenance": []
    },
    "kernelspec": {
      "name": "python3",
      "display_name": "Python 3"
    }
  },
  "cells": [
    {
      "cell_type": "markdown",
      "metadata": {
        "id": "3544uog_yldu"
      },
      "source": [
        "This code uses Principal Component Analysis (to reduce dimensionality) and k-means clustering to group similar 'hit' songs together."
      ]
    },
    {
      "cell_type": "code",
      "metadata": {
        "id": "dUhevV0SNPHY"
      },
      "source": [
        "# Import Libraries\n",
        "\n",
        "import pandas as pd\n",
        "import requests\n",
        "import io\n",
        "from sklearn.cluster import KMeans\n",
        "import matplotlib.pyplot as plt\n",
        "from sklearn.datasets import load_digits\n",
        "import seaborn as sns; sns.set()\n",
        "from sklearn.decomposition import PCA\n",
        "from sklearn.preprocessing import StandardScaler"
      ],
      "execution_count": 87,
      "outputs": []
    },
    {
      "cell_type": "code",
      "metadata": {
        "colab": {
          "base_uri": "https://localhost:8080/"
        },
        "id": "pY4Yb07HNUKe",
        "outputId": "cbcf0b9e-925b-467b-c82f-0cab3760b1ec"
      },
      "source": [
        "# Downloading the csv file from our GitHub repo\n",
        "\n",
        "url = \"https://raw.githubusercontent.com/Jingxue-24/QM2-team9/main/merged.csv\"\n",
        "download = requests.get(url).content\n",
        "\n",
        "# Reading the downloaded content and turning it into a pandas dataframe\n",
        "\n",
        "df = pd.read_csv(io.StringIO(download.decode('utf-8')))\n",
        "\n",
        "# Previewing data\n",
        "\n",
        "print (df.head())\n",
        "print(df.columns)\n"
      ],
      "execution_count": 88,
      "outputs": [
        {
          "output_type": "stream",
          "text": [
            "                                 Name  ... Time_signature\n",
            "0          Bridge Over Troubled Water  ...              4\n",
            "1      (They Long To Be) Close To You  ...              4\n",
            "2  American Woman - 7\" Single Version  ...              4\n",
            "3                War - Single Version  ...              4\n",
            "4       Ain't No Mountain High Enough  ...              4\n",
            "\n",
            "[5 rows x 17 columns]\n",
            "Index(['Name', 'Album', 'Artist', 'Popular_date', 'Release_date', 'Length',\n",
            "       'Popularity', 'Danceability', 'Acousticness', 'Danceability.1',\n",
            "       'Energy', 'Instrumentalness', 'Liveness', 'Loudness', 'Speechiness',\n",
            "       'Tempo', 'Time_signature'],\n",
            "      dtype='object')\n"
          ],
          "name": "stdout"
        }
      ]
    },
    {
      "cell_type": "markdown",
      "metadata": {
        "id": "DlJsdiQRyzwp"
      },
      "source": [
        "All works well. Moving on to prepping the data for PCA."
      ]
    },
    {
      "cell_type": "code",
      "metadata": {
        "colab": {
          "base_uri": "https://localhost:8080/"
        },
        "id": "3ElMt3_LcWtP",
        "outputId": "dd89aaac-dbd5-4d87-b02f-a27d59b675ab"
      },
      "source": [
        "df.drop(['Name', 'Album', 'Artist','Popular_date','Release_date', 'Popularity', 'Danceability.1', 'Liveness'], axis=1, inplace=True)\n",
        "print(df.columns)  \n",
        "print(df.head()) \n",
        "df.dropna(inplace=True)"
      ],
      "execution_count": 89,
      "outputs": [
        {
          "output_type": "stream",
          "text": [
            "Index(['Length', 'Danceability', 'Acousticness', 'Energy', 'Instrumentalness',\n",
            "       'Loudness', 'Speechiness', 'Tempo', 'Time_signature'],\n",
            "      dtype='object')\n",
            "   Length  Danceability  Acousticness  ...  Speechiness    Tempo  Time_signature\n",
            "0  293120         0.149        0.8220  ...       0.0323   79.764               4\n",
            "1  276000         0.543        0.6690  ...       0.0344   89.078               4\n",
            "2  231640         0.538        0.0424  ...       0.0375   93.077               4\n",
            "3  200960         0.591        0.0677  ...       0.1920  109.481               4\n",
            "4  215200         0.393        0.1910  ...       0.0448   98.757               4\n",
            "\n",
            "[5 rows x 9 columns]\n"
          ],
          "name": "stdout"
        }
      ]
    },
    {
      "cell_type": "markdown",
      "metadata": {
        "id": "rSlHY2zIy61J"
      },
      "source": [
        "All works well. Moving on to Kaiser-Meyer-Olkin test for suitability of data for PCA."
      ]
    },
    {
      "cell_type": "code",
      "metadata": {
        "id": "T-nB5h2_OJos"
      },
      "source": [
        "# KMO test\n",
        "from factor_analyzer.factor_analyzer import calculate_kmo\n",
        "kmo_all, kmo_model = calculate_kmo(df)\n",
        "kmo_model # = 0.5958992986526002 "
      ],
      "execution_count": null,
      "outputs": []
    },
    {
      "cell_type": "markdown",
      "metadata": {
        "id": "TGphLArGzEXC"
      },
      "source": [
        "Not a great KMO value - \"miserable\". We will have to discuss this in the website. "
      ]
    },
    {
      "cell_type": "code",
      "metadata": {
        "colab": {
          "base_uri": "https://localhost:8080/",
          "height": 483
        },
        "id": "UspU3HjKNe7J",
        "outputId": "fd78afdc-56af-43a0-8548-b03a6bc0e687"
      },
      "source": [
        "from sklearn.preprocessing import StandardScaler\n",
        "#Standardising data\n",
        "std_df = StandardScaler().fit_transform(df) #normalizing\n",
        "\n",
        "#PCA\n",
        "pca = PCA(n_components=9)\n",
        "principalComponents = pca.fit_transform(std_df)\n",
        "\n",
        "#Plotting the variances for each PC\n",
        "PC = range(1, pca.n_components_+1)\n",
        "plt.bar(PC, pca.explained_variance_ratio_, color='gold')\n",
        "plt.xlabel('Principal Components')\n",
        "plt.ylabel('Variance %')\n",
        "plt.xticks(PC)\n",
        "\n",
        "#Putting it in a dataframe\n",
        "PCA_components = pd.DataFrame(principalComponents)"
      ],
      "execution_count": 94,
      "outputs": [
        {
          "output_type": "error",
          "ename": "TypeError",
          "evalue": "ignored",
          "traceback": [
            "\u001b[0;31m---------------------------------------------------------------------------\u001b[0m",
            "\u001b[0;31mTypeError\u001b[0m                                 Traceback (most recent call last)",
            "\u001b[0;32m<ipython-input-94-e1acc069055e>\u001b[0m in \u001b[0;36m<module>\u001b[0;34m()\u001b[0m\n\u001b[1;32m     10\u001b[0m \u001b[0mPC\u001b[0m \u001b[0;34m=\u001b[0m \u001b[0mrange\u001b[0m\u001b[0;34m(\u001b[0m\u001b[0;36m1\u001b[0m\u001b[0;34m,\u001b[0m \u001b[0mpca\u001b[0m\u001b[0;34m.\u001b[0m\u001b[0mn_components_\u001b[0m\u001b[0;34m+\u001b[0m\u001b[0;36m1\u001b[0m\u001b[0;34m)\u001b[0m\u001b[0;34m\u001b[0m\u001b[0;34m\u001b[0m\u001b[0m\n\u001b[1;32m     11\u001b[0m \u001b[0mplt\u001b[0m\u001b[0;34m.\u001b[0m\u001b[0mbar\u001b[0m\u001b[0;34m(\u001b[0m\u001b[0mPC\u001b[0m\u001b[0;34m,\u001b[0m \u001b[0mpca\u001b[0m\u001b[0;34m.\u001b[0m\u001b[0mexplained_variance_ratio_\u001b[0m\u001b[0;34m,\u001b[0m \u001b[0mcolor\u001b[0m\u001b[0;34m=\u001b[0m\u001b[0;34m'gold'\u001b[0m\u001b[0;34m)\u001b[0m\u001b[0;34m\u001b[0m\u001b[0;34m\u001b[0m\u001b[0m\n\u001b[0;32m---> 12\u001b[0;31m \u001b[0mplt\u001b[0m\u001b[0;34m.\u001b[0m\u001b[0mxlabel\u001b[0m\u001b[0;34m(\u001b[0m\u001b[0;34m'Principal Components'\u001b[0m\u001b[0;34m)\u001b[0m\u001b[0;34m\u001b[0m\u001b[0;34m\u001b[0m\u001b[0m\n\u001b[0m\u001b[1;32m     13\u001b[0m \u001b[0mplt\u001b[0m\u001b[0;34m.\u001b[0m\u001b[0mylabel\u001b[0m\u001b[0;34m(\u001b[0m\u001b[0;34m'Variance %'\u001b[0m\u001b[0;34m)\u001b[0m\u001b[0;34m\u001b[0m\u001b[0;34m\u001b[0m\u001b[0m\n\u001b[1;32m     14\u001b[0m \u001b[0mplt\u001b[0m\u001b[0;34m.\u001b[0m\u001b[0mxticks\u001b[0m\u001b[0;34m(\u001b[0m\u001b[0mPC\u001b[0m\u001b[0;34m)\u001b[0m\u001b[0;34m\u001b[0m\u001b[0;34m\u001b[0m\u001b[0m\n",
            "\u001b[0;31mTypeError\u001b[0m: 'str' object is not callable"
          ]
        },
        {
          "output_type": "display_data",
          "data": {
            "image/png": "[encoded data removed]",
            "text/plain": [
              "<Figure size 432x288 with 1 Axes>"
            ]
          },
          "metadata": {
            "tags": []
          }
        }
      ]
    },
    {
      "cell_type": "markdown",
      "metadata": {
        "id": "Xrwq8cUgzhPo"
      },
      "source": [
        "First principal component explains over 25% of the variance. Second explains approximately 13%."
      ]
    },
    {
      "cell_type": "code",
      "metadata": {
        "colab": {
          "base_uri": "https://localhost:8080/",
          "height": 268
        },
        "id": "jPbrL0g2O9If",
        "outputId": "e3537815-33e4-4e03-dc8f-de4f8c2b9d5f"
      },
      "source": [
        "plt.scatter(PCA_components[0], PCA_components[1], alpha=.3, color='gold')\n",
        "plt.xlabel=('PCA 1')\n",
        "plt.ylabel=('PCA 2')\n",
        "plt.show()"
      ],
      "execution_count": 95,
      "outputs": [
        {
          "output_type": "display_data",
          "data": {
            "image/png": "[encoded data removed]",
            "text/plain": [
              "<Figure size 432x288 with 1 Axes>"
            ]
          },
          "metadata": {
            "tags": []
          }
        }
      ]
    },
    {
      "cell_type": "markdown",
      "metadata": {
        "id": "B8JariW0zuEe"
      },
      "source": [
        "Now, we need to use k-means to see how many clusters there actually are. "
      ]
    },
    {
      "cell_type": "code",
      "metadata": {
        "colab": {
          "base_uri": "https://localhost:8080/",
          "height": 268
        },
        "id": "14Un8KOpOcSK",
        "outputId": "18976a0a-6133-46ae-9a9e-6f927b219a4a"
      },
      "source": [
        "# Clustering - seeing exactly how many there are. \n",
        "inertias = []\n",
        "\n",
        "for k in range(1,10):\n",
        "  model = KMeans(n_clusters=k)\n",
        "\n",
        "  model.fit(PCA_components.iloc[:,:3])\n",
        "\n",
        "  inertias.append(model.inertia_)\n",
        "\n",
        "plt.plot(range(1,10), inertias, '-p', color='gold')\n",
        "plt.show()"
      ],
      "execution_count": 96,
      "outputs": [
        {
          "output_type": "display_data",
          "data": {
            "image/png": "[encoded data removed]",
            "text/plain": [
              "<Figure size 432x288 with 1 Axes>"
            ]
          },
          "metadata": {
            "tags": []
          }
        }
      ]
    },
    {
      "cell_type": "markdown",
      "metadata": {
        "id": "bc2SOIgNz3E-"
      },
      "source": [
        "Elbow method suggests 3 groupings."
      ]
    },
    {
      "cell_type": "code",
      "metadata": {
        "colab": {
          "base_uri": "https://localhost:8080/",
          "height": 268
        },
        "id": "ngWxyCIKe79v",
        "outputId": "28e6b772-f815-429c-b331-5f58ea0ef8be"
      },
      "source": [
        "model = KMeans(n_clusters=3)\n",
        "model.fit(PCA_components.iloc[:,:2])\n",
        "labels = model.predict(PCA_components.iloc[:,:2])\n",
        "plt.scatter(PCA_components[0], PCA_components[1], c=labels)\n",
        "plt.show()"
      ],
      "execution_count": 97,
      "outputs": [
        {
          "output_type": "display_data",
          "data": {
            "image/png": "[encoded data removed]",
            "text/plain": [
              "<Figure size 432x288 with 1 Axes>"
            ]
          },
          "metadata": {
            "tags": []
          }
        }
      ]
    },
    {
      "cell_type": "code",
      "metadata": {
        "colab": {
          "base_uri": "https://localhost:8080/",
          "height": 221
        },
        "id": "Ckde3PJSfO_s",
        "outputId": "671dfab2-d6b6-4791-f13c-160c7ddc6f60"
      },
      "source": [
        "# Getting information about clusters to name them.\n",
        "\n",
        "kmeans = KMeans(n_clusters=3, init='k-means++', max_iter=300, n_init=10, random_state=0)\n",
        "y_kmeans = kmeans.fit_predict(std_df)\n",
        "\n",
        "kmeans = pd.DataFrame(data=y_kmeans, dtype=int)\n",
        "kmeans.columns=['k_cluster']\n",
        "print(kmeans.shape)\n",
        "kmeans.head()"
      ],
      "execution_count": 98,
      "outputs": [
        {
          "output_type": "stream",
          "text": [
            "(989, 1)\n"
          ],
          "name": "stdout"
        },
        {
          "output_type": "execute_result",
          "data": {
            "text/html": [
              "<div>\n",
              "<style scoped>\n",
              "    .dataframe tbody tr th:only-of-type {\n",
              "        vertical-align: middle;\n",
              "    }\n",
              "\n",
              "    .dataframe tbody tr th {\n",
              "        vertical-align: top;\n",
              "    }\n",
              "\n",
              "    .dataframe thead th {\n",
              "        text-align: right;\n",
              "    }\n",
              "</style>\n",
              "<table border=\"1\" class=\"dataframe\">\n",
              "  <thead>\n",
              "    <tr style=\"text-align: right;\">\n",
              "      <th></th>\n",
              "      <th>k_cluster</th>\n",
              "    </tr>\n",
              "  </thead>\n",
              "  <tbody>\n",
              "    <tr>\n",
              "      <th>0</th>\n",
              "      <td>2</td>\n",
              "    </tr>\n",
              "    <tr>\n",
              "      <th>1</th>\n",
              "      <td>2</td>\n",
              "    </tr>\n",
              "    <tr>\n",
              "      <th>2</th>\n",
              "      <td>1</td>\n",
              "    </tr>\n",
              "    <tr>\n",
              "      <th>3</th>\n",
              "      <td>1</td>\n",
              "    </tr>\n",
              "    <tr>\n",
              "      <th>4</th>\n",
              "      <td>1</td>\n",
              "    </tr>\n",
              "  </tbody>\n",
              "</table>\n",
              "</div>"
            ],
            "text/plain": [
              "   k_cluster\n",
              "0          2\n",
              "1          2\n",
              "2          1\n",
              "3          1\n",
              "4          1"
            ]
          },
          "metadata": {
            "tags": []
          },
          "execution_count": 98
        }
      ]
    },
    {
      "cell_type": "code",
      "metadata": {
        "colab": {
          "base_uri": "https://localhost:8080/",
          "height": 513
        },
        "id": "JckjKNKcfxc5",
        "outputId": "8d2accab-2804-4767-ab2b-5796259afc74"
      },
      "source": [
        "# Downloading the original full csv file from our GitHub repo\n",
        "\n",
        "url = \"https://raw.githubusercontent.com/Jingxue-24/QM2-team9/main/merged.csv\"\n",
        "download = requests.get(url).content\n",
        "full_df = pd.read_csv(io.StringIO(download.decode('utf-8')))\n",
        "full_df.drop(['Release_date','Popularity', 'Danceability.1'], axis=1, inplace=True)\n",
        "# Concatenating\n",
        "df_cluster = pd.concat([full_df, kmeans], axis=1)\n",
        "print(df_cluster.shape)\n",
        "df_cluster.head() # it works - have the cluster with the name of the song. "
      ],
      "execution_count": 99,
      "outputs": [
        {
          "output_type": "stream",
          "text": [
            "(989, 15)\n"
          ],
          "name": "stdout"
        },
        {
          "output_type": "execute_result",
          "data": {
            "text/html": [
              "<div>\n",
              "<style scoped>\n",
              "    .dataframe tbody tr th:only-of-type {\n",
              "        vertical-align: middle;\n",
              "    }\n",
              "\n",
              "    .dataframe tbody tr th {\n",
              "        vertical-align: top;\n",
              "    }\n",
              "\n",
              "    .dataframe thead th {\n",
              "        text-align: right;\n",
              "    }\n",
              "</style>\n",
              "<table border=\"1\" class=\"dataframe\">\n",
              "  <thead>\n",
              "    <tr style=\"text-align: right;\">\n",
              "      <th></th>\n",
              "      <th>Name</th>\n",
              "      <th>Album</th>\n",
              "      <th>Artist</th>\n",
              "      <th>Popular_date</th>\n",
              "      <th>Length</th>\n",
              "      <th>Danceability</th>\n",
              "      <th>Acousticness</th>\n",
              "      <th>Energy</th>\n",
              "      <th>Instrumentalness</th>\n",
              "      <th>Liveness</th>\n",
              "      <th>Loudness</th>\n",
              "      <th>Speechiness</th>\n",
              "      <th>Tempo</th>\n",
              "      <th>Time_signature</th>\n",
              "      <th>k_cluster</th>\n",
              "    </tr>\n",
              "  </thead>\n",
              "  <tbody>\n",
              "    <tr>\n",
              "      <th>0</th>\n",
              "      <td>Bridge Over Troubled Water</td>\n",
              "      <td>Bridge Over Troubled Water</td>\n",
              "      <td>Simon &amp; Garfunkel</td>\n",
              "      <td>1970</td>\n",
              "      <td>293120</td>\n",
              "      <td>0.149</td>\n",
              "      <td>0.8220</td>\n",
              "      <td>0.206</td>\n",
              "      <td>0.000649</td>\n",
              "      <td>0.115</td>\n",
              "      <td>-13.888</td>\n",
              "      <td>0.0323</td>\n",
              "      <td>79.764</td>\n",
              "      <td>4</td>\n",
              "      <td>2</td>\n",
              "    </tr>\n",
              "    <tr>\n",
              "      <th>1</th>\n",
              "      <td>(They Long To Be) Close To You</td>\n",
              "      <td>Close To You</td>\n",
              "      <td>Carpenters</td>\n",
              "      <td>1970</td>\n",
              "      <td>276000</td>\n",
              "      <td>0.543</td>\n",
              "      <td>0.6690</td>\n",
              "      <td>0.241</td>\n",
              "      <td>0.000063</td>\n",
              "      <td>0.121</td>\n",
              "      <td>-14.590</td>\n",
              "      <td>0.0344</td>\n",
              "      <td>89.078</td>\n",
              "      <td>4</td>\n",
              "      <td>2</td>\n",
              "    </tr>\n",
              "    <tr>\n",
              "      <th>2</th>\n",
              "      <td>American Woman - 7\" Single Version</td>\n",
              "      <td>Platinum &amp; Gold Collection</td>\n",
              "      <td>The Guess Who</td>\n",
              "      <td>1970</td>\n",
              "      <td>231640</td>\n",
              "      <td>0.538</td>\n",
              "      <td>0.0424</td>\n",
              "      <td>0.841</td>\n",
              "      <td>0.001780</td>\n",
              "      <td>0.312</td>\n",
              "      <td>-7.547</td>\n",
              "      <td>0.0375</td>\n",
              "      <td>93.077</td>\n",
              "      <td>4</td>\n",
              "      <td>1</td>\n",
              "    </tr>\n",
              "    <tr>\n",
              "      <th>3</th>\n",
              "      <td>War - Single Version</td>\n",
              "      <td>Superstar Series Vol. 3</td>\n",
              "      <td>Edwin Starr</td>\n",
              "      <td>1970</td>\n",
              "      <td>200960</td>\n",
              "      <td>0.591</td>\n",
              "      <td>0.0677</td>\n",
              "      <td>0.781</td>\n",
              "      <td>0.000000</td>\n",
              "      <td>0.294</td>\n",
              "      <td>-9.680</td>\n",
              "      <td>0.1920</td>\n",
              "      <td>109.481</td>\n",
              "      <td>4</td>\n",
              "      <td>1</td>\n",
              "    </tr>\n",
              "    <tr>\n",
              "      <th>4</th>\n",
              "      <td>Ain't No Mountain High Enough</td>\n",
              "      <td>Diamond Diana: The Legacy Collection</td>\n",
              "      <td>Diana Ross</td>\n",
              "      <td>1970</td>\n",
              "      <td>215200</td>\n",
              "      <td>0.393</td>\n",
              "      <td>0.1910</td>\n",
              "      <td>0.792</td>\n",
              "      <td>0.003640</td>\n",
              "      <td>0.376</td>\n",
              "      <td>-5.076</td>\n",
              "      <td>0.0448</td>\n",
              "      <td>98.757</td>\n",
              "      <td>4</td>\n",
              "      <td>1</td>\n",
              "    </tr>\n",
              "  </tbody>\n",
              "</table>\n",
              "</div>"
            ],
            "text/plain": [
              "                                 Name  ... k_cluster\n",
              "0          Bridge Over Troubled Water  ...         2\n",
              "1      (They Long To Be) Close To You  ...         2\n",
              "2  American Woman - 7\" Single Version  ...         1\n",
              "3                War - Single Version  ...         1\n",
              "4       Ain't No Mountain High Enough  ...         1\n",
              "\n",
              "[5 rows x 15 columns]"
            ]
          },
          "metadata": {
            "tags": []
          },
          "execution_count": 99
        }
      ]
    },
    {
      "cell_type": "code",
      "metadata": {
        "colab": {
          "base_uri": "https://localhost:8080/",
          "height": 253
        },
        "id": "ZBuu3KhZhUI2",
        "outputId": "e8c60ed1-52d2-425e-d1be-f37bafa1eefb"
      },
      "source": [
        "# Check for null\n",
        "df_cluster.isnull().sum() #no nulls!\n",
        "\n",
        "#Number of songs per cluster\n",
        "df_cluster['k_cluster'].value_counts()\n",
        "\n",
        "# Statistical distribution of the data in each column, for each cluster \n",
        "df_cluster.groupby(\"k_cluster\").describe()"
      ],
      "execution_count": 100,
      "outputs": [
        {
          "output_type": "execute_result",
          "data": {
            "text/html": [
              "<div>\n",
              "<style scoped>\n",
              "    .dataframe tbody tr th:only-of-type {\n",
              "        vertical-align: middle;\n",
              "    }\n",
              "\n",
              "    .dataframe tbody tr th {\n",
              "        vertical-align: top;\n",
              "    }\n",
              "\n",
              "    .dataframe thead tr th {\n",
              "        text-align: left;\n",
              "    }\n",
              "\n",
              "    .dataframe thead tr:last-of-type th {\n",
              "        text-align: right;\n",
              "    }\n",
              "</style>\n",
              "<table border=\"1\" class=\"dataframe\">\n",
              "  <thead>\n",
              "    <tr>\n",
              "      <th></th>\n",
              "      <th colspan=\"8\" halign=\"left\">Popular_date</th>\n",
              "      <th colspan=\"8\" halign=\"left\">Length</th>\n",
              "      <th colspan=\"8\" halign=\"left\">Danceability</th>\n",
              "      <th colspan=\"8\" halign=\"left\">Acousticness</th>\n",
              "      <th colspan=\"8\" halign=\"left\">Energy</th>\n",
              "      <th>...</th>\n",
              "      <th colspan=\"8\" halign=\"left\">Liveness</th>\n",
              "      <th colspan=\"8\" halign=\"left\">Loudness</th>\n",
              "      <th colspan=\"8\" halign=\"left\">Speechiness</th>\n",
              "      <th colspan=\"8\" halign=\"left\">Tempo</th>\n",
              "      <th colspan=\"8\" halign=\"left\">Time_signature</th>\n",
              "    </tr>\n",
              "    <tr>\n",
              "      <th></th>\n",
              "      <th>count</th>\n",
              "      <th>mean</th>\n",
              "      <th>std</th>\n",
              "      <th>min</th>\n",
              "      <th>25%</th>\n",
              "      <th>50%</th>\n",
              "      <th>75%</th>\n",
              "      <th>max</th>\n",
              "      <th>count</th>\n",
              "      <th>mean</th>\n",
              "      <th>std</th>\n",
              "      <th>min</th>\n",
              "      <th>25%</th>\n",
              "      <th>50%</th>\n",
              "      <th>75%</th>\n",
              "      <th>max</th>\n",
              "      <th>count</th>\n",
              "      <th>mean</th>\n",
              "      <th>std</th>\n",
              "      <th>min</th>\n",
              "      <th>25%</th>\n",
              "      <th>50%</th>\n",
              "      <th>75%</th>\n",
              "      <th>max</th>\n",
              "      <th>count</th>\n",
              "      <th>mean</th>\n",
              "      <th>std</th>\n",
              "      <th>min</th>\n",
              "      <th>25%</th>\n",
              "      <th>50%</th>\n",
              "      <th>75%</th>\n",
              "      <th>max</th>\n",
              "      <th>count</th>\n",
              "      <th>mean</th>\n",
              "      <th>std</th>\n",
              "      <th>min</th>\n",
              "      <th>25%</th>\n",
              "      <th>50%</th>\n",
              "      <th>75%</th>\n",
              "      <th>max</th>\n",
              "      <th>...</th>\n",
              "      <th>count</th>\n",
              "      <th>mean</th>\n",
              "      <th>std</th>\n",
              "      <th>min</th>\n",
              "      <th>25%</th>\n",
              "      <th>50%</th>\n",
              "      <th>75%</th>\n",
              "      <th>max</th>\n",
              "      <th>count</th>\n",
              "      <th>mean</th>\n",
              "      <th>std</th>\n",
              "      <th>min</th>\n",
              "      <th>25%</th>\n",
              "      <th>50%</th>\n",
              "      <th>75%</th>\n",
              "      <th>max</th>\n",
              "      <th>count</th>\n",
              "      <th>mean</th>\n",
              "      <th>std</th>\n",
              "      <th>min</th>\n",
              "      <th>25%</th>\n",
              "      <th>50%</th>\n",
              "      <th>75%</th>\n",
              "      <th>max</th>\n",
              "      <th>count</th>\n",
              "      <th>mean</th>\n",
              "      <th>std</th>\n",
              "      <th>min</th>\n",
              "      <th>25%</th>\n",
              "      <th>50%</th>\n",
              "      <th>75%</th>\n",
              "      <th>max</th>\n",
              "      <th>count</th>\n",
              "      <th>mean</th>\n",
              "      <th>std</th>\n",
              "      <th>min</th>\n",
              "      <th>25%</th>\n",
              "      <th>50%</th>\n",
              "      <th>75%</th>\n",
              "      <th>max</th>\n",
              "    </tr>\n",
              "    <tr>\n",
              "      <th>k_cluster</th>\n",
              "      <th></th>\n",
              "      <th></th>\n",
              "      <th></th>\n",
              "      <th></th>\n",
              "      <th></th>\n",
              "      <th></th>\n",
              "      <th></th>\n",
              "      <th></th>\n",
              "      <th></th>\n",
              "      <th></th>\n",
              "      <th></th>\n",
              "      <th></th>\n",
              "      <th></th>\n",
              "      <th></th>\n",
              "      <th></th>\n",
              "      <th></th>\n",
              "      <th></th>\n",
              "      <th></th>\n",
              "      <th></th>\n",
              "      <th></th>\n",
              "      <th></th>\n",
              "      <th></th>\n",
              "      <th></th>\n",
              "      <th></th>\n",
              "      <th></th>\n",
              "      <th></th>\n",
              "      <th></th>\n",
              "      <th></th>\n",
              "      <th></th>\n",
              "      <th></th>\n",
              "      <th></th>\n",
              "      <th></th>\n",
              "      <th></th>\n",
              "      <th></th>\n",
              "      <th></th>\n",
              "      <th></th>\n",
              "      <th></th>\n",
              "      <th></th>\n",
              "      <th></th>\n",
              "      <th></th>\n",
              "      <th></th>\n",
              "      <th></th>\n",
              "      <th></th>\n",
              "      <th></th>\n",
              "      <th></th>\n",
              "      <th></th>\n",
              "      <th></th>\n",
              "      <th></th>\n",
              "      <th></th>\n",
              "      <th></th>\n",
              "      <th></th>\n",
              "      <th></th>\n",
              "      <th></th>\n",
              "      <th></th>\n",
              "      <th></th>\n",
              "      <th></th>\n",
              "      <th></th>\n",
              "      <th></th>\n",
              "      <th></th>\n",
              "      <th></th>\n",
              "      <th></th>\n",
              "      <th></th>\n",
              "      <th></th>\n",
              "      <th></th>\n",
              "      <th></th>\n",
              "      <th></th>\n",
              "      <th></th>\n",
              "      <th></th>\n",
              "      <th></th>\n",
              "      <th></th>\n",
              "      <th></th>\n",
              "      <th></th>\n",
              "      <th></th>\n",
              "      <th></th>\n",
              "      <th></th>\n",
              "      <th></th>\n",
              "      <th></th>\n",
              "      <th></th>\n",
              "      <th></th>\n",
              "      <th></th>\n",
              "      <th></th>\n",
              "    </tr>\n",
              "  </thead>\n",
              "  <tbody>\n",
              "    <tr>\n",
              "      <th>0</th>\n",
              "      <td>30.0</td>\n",
              "      <td>1991.166667</td>\n",
              "      <td>13.009501</td>\n",
              "      <td>1973.0</td>\n",
              "      <td>1978.25</td>\n",
              "      <td>1991.0</td>\n",
              "      <td>2000.5</td>\n",
              "      <td>2018.0</td>\n",
              "      <td>30.0</td>\n",
              "      <td>242124.066667</td>\n",
              "      <td>43401.706292</td>\n",
              "      <td>185293.0</td>\n",
              "      <td>212773.0</td>\n",
              "      <td>227206.0</td>\n",
              "      <td>260776.50</td>\n",
              "      <td>350666.0</td>\n",
              "      <td>30.0</td>\n",
              "      <td>0.494867</td>\n",
              "      <td>0.141180</td>\n",
              "      <td>0.190</td>\n",
              "      <td>0.39575</td>\n",
              "      <td>0.5305</td>\n",
              "      <td>0.58975</td>\n",
              "      <td>0.752</td>\n",
              "      <td>30.0</td>\n",
              "      <td>0.528110</td>\n",
              "      <td>0.303954</td>\n",
              "      <td>0.017800</td>\n",
              "      <td>0.28125</td>\n",
              "      <td>0.5450</td>\n",
              "      <td>0.83850</td>\n",
              "      <td>0.949</td>\n",
              "      <td>30.0</td>\n",
              "      <td>0.368593</td>\n",
              "      <td>0.186063</td>\n",
              "      <td>0.0744</td>\n",
              "      <td>0.2365</td>\n",
              "      <td>0.3695</td>\n",
              "      <td>0.475</td>\n",
              "      <td>0.925</td>\n",
              "      <td>...</td>\n",
              "      <td>30.0</td>\n",
              "      <td>0.134893</td>\n",
              "      <td>0.068740</td>\n",
              "      <td>0.0556</td>\n",
              "      <td>0.099950</td>\n",
              "      <td>0.1135</td>\n",
              "      <td>0.15175</td>\n",
              "      <td>0.382</td>\n",
              "      <td>30.0</td>\n",
              "      <td>-10.381967</td>\n",
              "      <td>3.869721</td>\n",
              "      <td>-20.518</td>\n",
              "      <td>-12.59875</td>\n",
              "      <td>-9.7415</td>\n",
              "      <td>-7.47625</td>\n",
              "      <td>-3.288</td>\n",
              "      <td>30.0</td>\n",
              "      <td>0.037277</td>\n",
              "      <td>0.018562</td>\n",
              "      <td>0.0232</td>\n",
              "      <td>0.028450</td>\n",
              "      <td>0.03075</td>\n",
              "      <td>0.036625</td>\n",
              "      <td>0.106</td>\n",
              "      <td>30.0</td>\n",
              "      <td>120.547733</td>\n",
              "      <td>32.266673</td>\n",
              "      <td>65.346</td>\n",
              "      <td>96.73775</td>\n",
              "      <td>118.6990</td>\n",
              "      <td>142.26275</td>\n",
              "      <td>205.467</td>\n",
              "      <td>30.0</td>\n",
              "      <td>3.00000</td>\n",
              "      <td>0.000000</td>\n",
              "      <td>3.0</td>\n",
              "      <td>3.0</td>\n",
              "      <td>3.0</td>\n",
              "      <td>3.0</td>\n",
              "      <td>3.0</td>\n",
              "    </tr>\n",
              "    <tr>\n",
              "      <th>1</th>\n",
              "      <td>637.0</td>\n",
              "      <td>1999.015699</td>\n",
              "      <td>13.449875</td>\n",
              "      <td>1970.0</td>\n",
              "      <td>1988.00</td>\n",
              "      <td>2002.0</td>\n",
              "      <td>2010.0</td>\n",
              "      <td>2019.0</td>\n",
              "      <td>637.0</td>\n",
              "      <td>239490.047096</td>\n",
              "      <td>43665.696927</td>\n",
              "      <td>148813.0</td>\n",
              "      <td>211213.0</td>\n",
              "      <td>234360.0</td>\n",
              "      <td>260253.00</td>\n",
              "      <td>495400.0</td>\n",
              "      <td>637.0</td>\n",
              "      <td>0.699061</td>\n",
              "      <td>0.124395</td>\n",
              "      <td>0.256</td>\n",
              "      <td>0.63000</td>\n",
              "      <td>0.7110</td>\n",
              "      <td>0.78100</td>\n",
              "      <td>0.967</td>\n",
              "      <td>637.0</td>\n",
              "      <td>0.107996</td>\n",
              "      <td>0.116034</td>\n",
              "      <td>0.000049</td>\n",
              "      <td>0.02080</td>\n",
              "      <td>0.0619</td>\n",
              "      <td>0.16300</td>\n",
              "      <td>0.615</td>\n",
              "      <td>637.0</td>\n",
              "      <td>0.727532</td>\n",
              "      <td>0.130542</td>\n",
              "      <td>0.3140</td>\n",
              "      <td>0.6380</td>\n",
              "      <td>0.7370</td>\n",
              "      <td>0.827</td>\n",
              "      <td>0.989</td>\n",
              "      <td>...</td>\n",
              "      <td>637.0</td>\n",
              "      <td>0.178832</td>\n",
              "      <td>0.150661</td>\n",
              "      <td>0.0188</td>\n",
              "      <td>0.078000</td>\n",
              "      <td>0.1230</td>\n",
              "      <td>0.24700</td>\n",
              "      <td>0.972</td>\n",
              "      <td>637.0</td>\n",
              "      <td>-6.490272</td>\n",
              "      <td>2.301852</td>\n",
              "      <td>-16.183</td>\n",
              "      <td>-7.82300</td>\n",
              "      <td>-6.0970</td>\n",
              "      <td>-4.89400</td>\n",
              "      <td>-1.609</td>\n",
              "      <td>637.0</td>\n",
              "      <td>0.086505</td>\n",
              "      <td>0.081996</td>\n",
              "      <td>0.0228</td>\n",
              "      <td>0.037800</td>\n",
              "      <td>0.05210</td>\n",
              "      <td>0.099300</td>\n",
              "      <td>0.576</td>\n",
              "      <td>637.0</td>\n",
              "      <td>119.822068</td>\n",
              "      <td>25.748435</td>\n",
              "      <td>65.997</td>\n",
              "      <td>100.00500</td>\n",
              "      <td>117.1290</td>\n",
              "      <td>132.64200</td>\n",
              "      <td>210.857</td>\n",
              "      <td>637.0</td>\n",
              "      <td>4.00471</td>\n",
              "      <td>0.068518</td>\n",
              "      <td>4.0</td>\n",
              "      <td>4.0</td>\n",
              "      <td>4.0</td>\n",
              "      <td>4.0</td>\n",
              "      <td>5.0</td>\n",
              "    </tr>\n",
              "    <tr>\n",
              "      <th>2</th>\n",
              "      <td>322.0</td>\n",
              "      <td>1986.341615</td>\n",
              "      <td>12.531135</td>\n",
              "      <td>1970.0</td>\n",
              "      <td>1976.00</td>\n",
              "      <td>1985.0</td>\n",
              "      <td>1994.0</td>\n",
              "      <td>2019.0</td>\n",
              "      <td>322.0</td>\n",
              "      <td>252049.531056</td>\n",
              "      <td>54105.182151</td>\n",
              "      <td>144866.0</td>\n",
              "      <td>217369.5</td>\n",
              "      <td>246720.0</td>\n",
              "      <td>281023.25</td>\n",
              "      <td>536066.0</td>\n",
              "      <td>322.0</td>\n",
              "      <td>0.583693</td>\n",
              "      <td>0.138547</td>\n",
              "      <td>0.149</td>\n",
              "      <td>0.49525</td>\n",
              "      <td>0.5890</td>\n",
              "      <td>0.68600</td>\n",
              "      <td>0.898</td>\n",
              "      <td>322.0</td>\n",
              "      <td>0.427178</td>\n",
              "      <td>0.259113</td>\n",
              "      <td>0.000185</td>\n",
              "      <td>0.21200</td>\n",
              "      <td>0.4155</td>\n",
              "      <td>0.63375</td>\n",
              "      <td>0.977</td>\n",
              "      <td>322.0</td>\n",
              "      <td>0.461782</td>\n",
              "      <td>0.129727</td>\n",
              "      <td>0.0264</td>\n",
              "      <td>0.3780</td>\n",
              "      <td>0.4645</td>\n",
              "      <td>0.549</td>\n",
              "      <td>0.809</td>\n",
              "      <td>...</td>\n",
              "      <td>322.0</td>\n",
              "      <td>0.160427</td>\n",
              "      <td>0.138946</td>\n",
              "      <td>0.0331</td>\n",
              "      <td>0.087325</td>\n",
              "      <td>0.1160</td>\n",
              "      <td>0.16700</td>\n",
              "      <td>0.946</td>\n",
              "      <td>322.0</td>\n",
              "      <td>-10.999453</td>\n",
              "      <td>2.912125</td>\n",
              "      <td>-23.035</td>\n",
              "      <td>-13.02525</td>\n",
              "      <td>-10.8990</td>\n",
              "      <td>-8.81725</td>\n",
              "      <td>-3.866</td>\n",
              "      <td>322.0</td>\n",
              "      <td>0.044244</td>\n",
              "      <td>0.041112</td>\n",
              "      <td>0.0226</td>\n",
              "      <td>0.029325</td>\n",
              "      <td>0.03390</td>\n",
              "      <td>0.043325</td>\n",
              "      <td>0.438</td>\n",
              "      <td>322.0</td>\n",
              "      <td>114.626860</td>\n",
              "      <td>28.364638</td>\n",
              "      <td>60.117</td>\n",
              "      <td>93.22850</td>\n",
              "      <td>111.9385</td>\n",
              "      <td>130.81850</td>\n",
              "      <td>208.282</td>\n",
              "      <td>322.0</td>\n",
              "      <td>4.00000</td>\n",
              "      <td>0.000000</td>\n",
              "      <td>4.0</td>\n",
              "      <td>4.0</td>\n",
              "      <td>4.0</td>\n",
              "      <td>4.0</td>\n",
              "      <td>4.0</td>\n",
              "    </tr>\n",
              "  </tbody>\n",
              "</table>\n",
              "<p>3 rows × 88 columns</p>\n",
              "</div>"
            ],
            "text/plain": [
              "          Popular_date                                  ... Time_signature               \n",
              "                 count         mean        std     min  ...            25%  50%  75%  max\n",
              "k_cluster                                               ...                              \n",
              "0                 30.0  1991.166667  13.009501  1973.0  ...            3.0  3.0  3.0  3.0\n",
              "1                637.0  1999.015699  13.449875  1970.0  ...            4.0  4.0  4.0  5.0\n",
              "2                322.0  1986.341615  12.531135  1970.0  ...            4.0  4.0  4.0  4.0\n",
              "\n",
              "[3 rows x 88 columns]"
            ]
          },
          "metadata": {
            "tags": []
          },
          "execution_count": 100
        }
      ]
    },
    {
      "cell_type": "code",
      "metadata": {
        "id": "XYm95AZRs8Jg"
      },
      "source": [
        "# Updated datasets\n",
        "cluster_zero = df_cluster.loc[df_cluster['k_cluster']==0]\n",
        "cluster_one = df_cluster.loc[df_cluster['k_cluster']==1]\n",
        "cluster_two = df_cluster.loc[df_cluster['k_cluster']==2]\n",
        "\n",
        "# Exporting\n",
        "cluster_zero.to_csv('cluster_zero.csv', index=False, header=True)\n",
        "cluster_one.to_csv('cluster_one.csv', index=False, header=True)\n",
        "cluster_two.to_csv('cluster_two.csv', index=False, header=True)\n",
        "df_cluster.to_csv('cluster_all.csv', index=False, header=True)"
      ],
      "execution_count": 101,
      "outputs": []
    }
  ]
}