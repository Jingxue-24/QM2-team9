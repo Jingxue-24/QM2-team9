{
  "nbformat": 4,
  "nbformat_minor": 0,
  "metadata": {
    "colab": {
      "name": "ANOVA.ipynb",
      "provenance": []
    },
    "kernelspec": {
      "name": "python3",
      "display_name": "Python 3"
    }
  },
  "cells": [
    {
      "cell_type": "code",
      "metadata": {
        "id": "xDcXTjyAJ7pq"
      },
      "source": [
        "import pandas as pd\n",
        "import requests\n",
        "import io"
      ],
      "execution_count": 35,
      "outputs": []
    },
    {
      "cell_type": "code",
      "metadata": {
        "colab": {
          "base_uri": "https://localhost:8080/"
        },
        "id": "F6-TSwwwKwdp",
        "outputId": "85a4b90f-026c-43eb-98ec-f17cfc228be4"
      },
      "source": [
        "# Downloading the csv file from our GitHub repo\n",
        "\n",
        "url = \"https://raw.githubusercontent.com/Jingxue-24/QM2-team9/main/Spotify%20API/merged.csv\"\n",
        "download = requests.get(url).content\n",
        "\n",
        "# Reading the downloaded content and turning it into a pandas dataframe\n",
        "\n",
        "df = pd.read_csv(io.StringIO(download.decode('utf-8')))\n",
        "\n",
        "# Previewing data\n",
        "\n",
        "print (df.head())\n",
        "print(df.columns)"
      ],
      "execution_count": 36,
      "outputs": [
        {
          "output_type": "stream",
          "text": [
            "                                 Name  ... Time_signature\n",
            "0          Bridge Over Troubled Water  ...              4\n",
            "1      (They Long To Be) Close To You  ...              4\n",
            "2  American Woman - 7\" Single Version  ...              4\n",
            "3                War - Single Version  ...              4\n",
            "4       Ain't No Mountain High Enough  ...              4\n",
            "\n",
            "[5 rows x 17 columns]\n",
            "Index(['Name', 'Album', 'Artist', 'Popular_date', 'Release_date', 'Length',\n",
            "       'Popularity', 'Danceability', 'Acousticness', 'Danceability.1',\n",
            "       'Energy', 'Instrumentalness', 'Liveness', 'Loudness', 'Speechiness',\n",
            "       'Tempo', 'Time_signature'],\n",
            "      dtype='object')\n"
          ],
          "name": "stdout"
        }
      ]
    },
    {
      "cell_type": "code",
      "metadata": {
        "id": "YgAEwJNOLRu9"
      },
      "source": [
        "# Making decades and adding it to dataframe\n",
        "year = df['Popular_date']\n",
        "decade = year - (year%10)\n",
        "df['Decade'] = decade\n",
        "df.loc[ : , 'Decade'] = decade"
      ],
      "execution_count": 37,
      "outputs": []
    },
    {
      "cell_type": "code",
      "metadata": {
        "id": "rGOgwzX0K9Ti"
      },
      "source": [
        "import statsmodels.api as sm\n",
        "from statsmodels.formula.api import ols"
      ],
      "execution_count": 38,
      "outputs": []
    },
    {
      "cell_type": "code",
      "metadata": {
        "colab": {
          "base_uri": "https://localhost:8080/"
        },
        "id": "GtzmRj6mLESd",
        "outputId": "ab6e7ea0-464d-4dac-f2e9-8c0ae7e803cc"
      },
      "source": [
        "# Tempo changing over decades\n",
        "tempo = df['Tempo']\n",
        "lm = ols('decade ~ tempo',data=df).fit()\n",
        "table = sm.stats.anova_lm(lm)\n",
        "print(table) #not significant "
      ],
      "execution_count": 39,
      "outputs": [
        {
          "output_type": "stream",
          "text": [
            "             df         sum_sq     mean_sq         F    PR(>F)\n",
            "tempo       1.0       2.852502    2.852502  0.014279  0.904909\n",
            "Residual  987.0  197177.329500  199.774397       NaN       NaN\n"
          ],
          "name": "stdout"
        }
      ]
    },
    {
      "cell_type": "code",
      "metadata": {
        "colab": {
          "base_uri": "https://localhost:8080/"
        },
        "id": "fNszTkuVSLs_",
        "outputId": "bf018628-b43a-434f-993c-179550ca997b"
      },
      "source": [
        "# Energy changing over decades\n",
        "energy = df['Energy']\n",
        "lm = ols('decade ~ energy',data=df).fit()\n",
        "table = sm.stats.anova_lm(lm)\n",
        "print(table) #is significant"
      ],
      "execution_count": 40,
      "outputs": [
        {
          "output_type": "stream",
          "text": [
            "             df         sum_sq       mean_sq          F        PR(>F)\n",
            "energy      1.0   12736.470477  12736.470477  68.155733  4.810912e-16\n",
            "Residual  987.0  184443.711525    186.873061        NaN           NaN\n"
          ],
          "name": "stdout"
        }
      ]
    },
    {
      "cell_type": "code",
      "metadata": {
        "colab": {
          "base_uri": "https://localhost:8080/"
        },
        "id": "R2g9ECR9TG6g",
        "outputId": "9b4e5c95-9958-4ff3-fbf9-34a3ccd80076"
      },
      "source": [
        "# Length of songs changing over decades\n",
        "length = df['Length']\n",
        "lm = ols('decade ~ length',data=df).fit()\n",
        "table = sm.stats.anova_lm(lm)\n",
        "print(table) #is significant"
      ],
      "execution_count": 41,
      "outputs": [
        {
          "output_type": "stream",
          "text": [
            "             df         sum_sq      mean_sq         F    PR(>F)\n",
            "length      1.0    3380.149509  3380.149509  17.21469  0.000036\n",
            "Residual  987.0  193800.032493   196.352617       NaN       NaN\n"
          ],
          "name": "stdout"
        }
      ]
    },
    {
      "cell_type": "code",
      "metadata": {
        "colab": {
          "base_uri": "https://localhost:8080/"
        },
        "id": "yzKw1gTVThUJ",
        "outputId": "a49730af-93b5-4b63-fa84-ffdf5b959434"
      },
      "source": [
        "# Danceability changing over decades\n",
        "danceability = df['Danceability']\n",
        "lm = ols('decade ~ danceability',data=df).fit()\n",
        "table = sm.stats.anova_lm(lm)\n",
        "print(table) #is significant"
      ],
      "execution_count": 42,
      "outputs": [
        {
          "output_type": "stream",
          "text": [
            "                 df         sum_sq      mean_sq          F        PR(>F)\n",
            "danceability    1.0    6567.058882  6567.058882  34.004412  7.445221e-09\n",
            "Residual      987.0  190613.123120   193.123732        NaN           NaN\n"
          ],
          "name": "stdout"
        }
      ]
    },
    {
      "cell_type": "code",
      "metadata": {
        "colab": {
          "base_uri": "https://localhost:8080/"
        },
        "id": "RD3eWo-BUYoS",
        "outputId": "2a4c1bb2-45c0-4f54-9177-e1c1d9cdcbe3"
      },
      "source": [
        "# Instrumentalness changing over decades\n",
        "instrumentalness = df['Instrumentalness']\n",
        "lm = ols('decade ~ instrumentalness',data=df).fit()\n",
        "table = sm.stats.anova_lm(lm)\n",
        "print(table) #is significant"
      ],
      "execution_count": 45,
      "outputs": [
        {
          "output_type": "stream",
          "text": [
            "                     df         sum_sq      mean_sq          F    PR(>F)\n",
            "instrumentalness    1.0    2477.856946  2477.856946  12.560943  0.000412\n",
            "Residual          987.0  194702.325056   197.266793        NaN       NaN\n"
          ],
          "name": "stdout"
        }
      ]
    },
    {
      "cell_type": "code",
      "metadata": {
        "colab": {
          "base_uri": "https://localhost:8080/"
        },
        "id": "it5aUfE0VyBU",
        "outputId": "6dc8a2b3-b657-4dc0-88e0-9b354e354b53"
      },
      "source": [
        "# Loudness changing over decades\n",
        "loudness = df['Loudness']\n",
        "lm = ols('decade ~ loudness',data=df).fit()\n",
        "table = sm.stats.anova_lm(lm)\n",
        "print(table) #is significant"
      ],
      "execution_count": 44,
      "outputs": [
        {
          "output_type": "stream",
          "text": [
            "             df         sum_sq       mean_sq           F        PR(>F)\n",
            "loudness    1.0   71613.772796  71613.772796  562.911643  7.996093e-99\n",
            "Residual  987.0  125566.409206    127.220273         NaN           NaN\n"
          ],
          "name": "stdout"
        }
      ]
    },
    {
      "cell_type": "code",
      "metadata": {
        "colab": {
          "base_uri": "https://localhost:8080/"
        },
        "id": "XKc6trSlGUUb",
        "outputId": "c4e83c09-fec1-4970-f6b6-e937cb8c94f8"
      },
      "source": [
        "# Speechiness changing over decades\n",
        "speechiness = df['Speechiness']\n",
        "lm = ols('decade ~ speechiness',data=df).fit()\n",
        "table = sm.stats.anova_lm(lm)\n",
        "print(table) #is significant"
      ],
      "execution_count": 46,
      "outputs": [
        {
          "output_type": "stream",
          "text": [
            "                df         sum_sq       mean_sq          F        PR(>F)\n",
            "speechiness    1.0   17445.480752  17445.480752  95.800585  1.182193e-21\n",
            "Residual     987.0  179734.701250    182.102028        NaN           NaN\n"
          ],
          "name": "stdout"
        }
      ]
    },
    {
      "cell_type": "markdown",
      "metadata": {
        "id": "OsBOHk8gAVZF"
      },
      "source": [
        "Tutorial(s) followed: \n",
        "\n",
        "\n",
        "*   https://towardsdatascience.com/1-way-anova-from-scratch-dissecting-the-anova-table-with-a-worked-example-170f4f2e58ad\n",
        "\n"
      ]
    }
  ]
}