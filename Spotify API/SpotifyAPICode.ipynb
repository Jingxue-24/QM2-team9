{
  "nbformat": 4,
  "nbformat_minor": 0,
  "metadata": {
    "colab": {
      "name": "Spotify",
      "provenance": [],
      "include_colab_link": true
    },
    "kernelspec": {
      "name": "python3",
      "display_name": "Python 3"
    }
  },
  "cells": [
    {
      "cell_type": "markdown",
      "metadata": {
        "id": "view-in-github",
        "colab_type": "text"
      },
      "source": [
        "<a href=\"https://colab.research.google.com/github/Jingxue-24/QM2-team9/blob/main/SpotifyAPICode.ipynb\" target=\"_parent\"><img src=\"https://colab.research.google.com/assets/colab-badge.svg\" alt=\"Open In Colab\"/></a>"
      ]
    },
    {
      "cell_type": "markdown",
      "metadata": {
        "id": "BeKmysmtRFvQ"
      },
      "source": [
        "# **Install Spotipy**"
      ]
    },
    {
      "cell_type": "code",
      "metadata": {
        "colab": {
          "base_uri": "https://localhost:8080/"
        },
        "id": "aB2JvUvKP2r7",
        "outputId": "cb1a5fa8-f80f-4551-a4d1-5436a94c0af9"
      },
      "source": [
        "pip install spotipy --upgrade"
      ],
      "execution_count": 4,
      "outputs": [
        {
          "output_type": "stream",
          "text": [
            "Collecting spotipy\n",
            "  Downloading https://files.pythonhosted.org/packages/7a/cd/e7d9a35216ea5bfb9234785f3d8fa7c96d0e33999c2cb72394128f6b4cce/spotipy-2.16.1-py3-none-any.whl\n",
            "Requirement already satisfied, skipping upgrade: six>=1.10.0 in /usr/local/lib/python3.6/dist-packages (from spotipy) (1.15.0)\n",
            "Requirement already satisfied, skipping upgrade: requests>=2.20.0 in /usr/local/lib/python3.6/dist-packages (from spotipy) (2.23.0)\n",
            "Requirement already satisfied, skipping upgrade: chardet<4,>=3.0.2 in /usr/local/lib/python3.6/dist-packages (from requests>=2.20.0->spotipy) (3.0.4)\n",
            "Requirement already satisfied, skipping upgrade: idna<3,>=2.5 in /usr/local/lib/python3.6/dist-packages (from requests>=2.20.0->spotipy) (2.10)\n",
            "Requirement already satisfied, skipping upgrade: certifi>=2017.4.17 in /usr/local/lib/python3.6/dist-packages (from requests>=2.20.0->spotipy) (2020.12.5)\n",
            "Requirement already satisfied, skipping upgrade: urllib3!=1.25.0,!=1.25.1,<1.26,>=1.21.1 in /usr/local/lib/python3.6/dist-packages (from requests>=2.20.0->spotipy) (1.24.3)\n",
            "Installing collected packages: spotipy\n",
            "Successfully installed spotipy-2.16.1\n"
          ],
          "name": "stdout"
        }
      ]
    },
    {
      "cell_type": "code",
      "metadata": {
        "id": "CHfMWWUcRs0s"
      },
      "source": [
        "import pandas as pd\n",
        "import spotipy\n",
        "sp = spotipy.Spotify()\n",
        "from spotipy.oauth2 import SpotifyClientCredentials\n",
        "import spotipy.util as util "
      ],
      "execution_count": 5,
      "outputs": []
    },
    {
      "cell_type": "markdown",
      "metadata": {
        "id": "NG0obIf5T-fG"
      },
      "source": [
        "# **Secret Spotify Environement**"
      ]
    },
    {
      "cell_type": "code",
      "metadata": {
        "id": "2R6f2YmfTNB-"
      },
      "source": [
        "import os\n",
        "os.environ['SPOTIPY_CLIENT_ID'] = 'bf56488a43a94f21804b8ee461c1f98b'\n",
        "\n",
        "import os\n",
        "os.environ['SPOTIPY_CLIENT_SECRET'] = '424db6a145704a66ad4fa22c25ab098f'"
      ],
      "execution_count": 6,
      "outputs": []
    },
    {
      "cell_type": "code",
      "metadata": {
        "id": "W44W1UfiYywb"
      },
      "source": [
        "access_token = \"BQD8sBNDqPUfXM4WMo8y5rXBdhSxli6banfxdNHRpbzgz5c5iClbkked1iFtyQFUFKvWd7qRavmn7JDIQcw\""
      ],
      "execution_count": 7,
      "outputs": []
    },
    {
      "cell_type": "markdown",
      "metadata": {
        "id": "BHY8cNxLs1sR"
      },
      "source": [
        "# **Get Music Track for One song**"
      ]
    },
    {
      "cell_type": "code",
      "metadata": {
        "colab": {
          "base_uri": "https://localhost:8080/"
        },
        "id": "CKbqNnRnsWxH",
        "outputId": "fd7168da-45af-4dc1-cabf-19864610ea35"
      },
      "source": [
        "import spotipy\n",
        "import spotipy.oauth2\n",
        "\n",
        "credentials = spotipy.oauth2.SpotifyClientCredentials()\n",
        "spotify = spotipy.Spotify(client_credentials_manager=credentials)\n",
        "print(spotify.audio_features(['6VzcQuzTNTMFnJ6rBSaLH9']))"
      ],
      "execution_count": 8,
      "outputs": [
        {
          "output_type": "stream",
          "text": [
            "[{'danceability': 0.306, 'energy': 0.347, 'key': 2, 'loudness': -8.5, 'mode': 1, 'speechiness': 0.0334, 'acousticness': 0.172, 'instrumentalness': 0.00013, 'liveness': 0.0485, 'valence': 0.0511, 'tempo': 120.996, 'type': 'audio_features', 'id': '6VzcQuzTNTMFnJ6rBSaLH9', 'uri': 'spotify:track:6VzcQuzTNTMFnJ6rBSaLH9', 'track_href': 'https://api.spotify.com/v1/tracks/6VzcQuzTNTMFnJ6rBSaLH9', 'analysis_url': 'https://api.spotify.com/v1/audio-analysis/6VzcQuzTNTMFnJ6rBSaLH9', 'duration_ms': 377960, 'time_signature': 4}]\n"
          ],
          "name": "stdout"
        }
      ]
    },
    {
      "cell_type": "markdown",
      "metadata": {
        "id": "FVypMy8RtbLF"
      },
      "source": [
        "We used below the code recommanded by Spotipy in order to activate the Spotify API\n",
        "Reference: Spotipy, (2020) \"*Welcome to Spotipy!*\", Accessible at: https://spotipy.readthedocs.io/en/2.16.1/ (Accessed 30 November 2020)"
      ]
    },
    {
      "cell_type": "code",
      "metadata": {
        "id": "iRMGz5bfwZSV"
      },
      "source": [
        "import spotipy\n",
        "from spotipy.oauth2 import SpotifyClientCredentials\n",
        "auth_manager = SpotifyClientCredentials()\n",
        "sp = spotipy.Spotify(auth_manager=auth_manager)\n",
        "\n",
        "\n",
        "playlists = sp.user_playlists('spotify')\n",
        "while playlists:\n",
        "  for i, playlist in enumerate(playlists['items']):\n",
        "    print(\"%4d %s %s\" % (i + 1 + playlists['offset'], playlist['uri'], playlist['name']))\n",
        "  if playlists['next']:\n",
        "    playlists = sp.next(playlists)\n",
        "  else:\n",
        "    playlists = None\n",
        "\n",
        "# Code taken from the Spotipy presentation website (https://spotipy.readthedocs.io/en/2.16.1/)"
      ],
      "execution_count": null,
      "outputs": []
    },
    {
      "cell_type": "markdown",
      "metadata": {
        "id": "-SK-S3_mtNzR"
      },
      "source": [
        "\n",
        "# **Get Music Audio Features for multiple Songs**"
      ]
    },
    {
      "cell_type": "markdown",
      "metadata": {
        "id": "Q5XQkAbRsDTX"
      },
      "source": [
        "For the part below, we used the of code from https://morioh.com/p/31b8a607b2b0 \n",
        "\n",
        "Reference: Horpestad S. (2020). *How to Extract Data using Spotify’s API, Python and Spotify*, Accessible at: https://morioh.com/p/31b8a607b2b0 (Accessed 30 November 2020)\n",
        "\n",
        "\n"
      ]
    },
    {
      "cell_type": "code",
      "metadata": {
        "id": "3yZ9HPXgv4Ty"
      },
      "source": [
        "import spotipy.util as util"
      ],
      "execution_count": 10,
      "outputs": []
    },
    {
      "cell_type": "code",
      "metadata": {
        "id": "o9nKlPqJFnAU"
      },
      "source": [
        "creator = \"kumayl_boss\"\n",
        "playlistID = \"30Qq45B6xuEHLwUjtJ73Rm\""
      ],
      "execution_count": 15,
      "outputs": []
    },
    {
      "cell_type": "code",
      "metadata": {
        "id": "zI_MRBhLciEb"
      },
      "source": [
        "def getTrackIDs(user, playlist_id):\n",
        "    ids = []\n",
        "    playlist = sp.user_playlist(user, playlist_id)\n",
        "    for item in playlist['tracks']['items']:\n",
        "        track = item['track']\n",
        "        ids.append(track['id'])\n",
        "    return ids\n",
        "\n",
        "\n",
        "ids = getTrackIDs('kumayl_boss', '30Qq45B6xuEHLwUjtJ73Rm')\n"
      ],
      "execution_count": 12,
      "outputs": []
    },
    {
      "cell_type": "code",
      "metadata": {
        "id": "hX8Ct3MYCWwr",
        "colab": {
          "base_uri": "https://localhost:8080/",
          "height": 204
        },
        "outputId": "a7029f7f-4f46-4eb2-b269-2a6389692602"
      },
      "source": [
        "\n",
        "def Playlist_Tracks_Features(id):\n",
        "  meta = sp.track(id)\n",
        "  features = sp.audio_features(id)\n",
        "\n",
        "  # Get basic song features\n",
        "  name = meta['name']\n",
        "  album = meta['album']['name']\n",
        "  artist = meta['album']['artists'][0]['name']\n",
        "  release_date = meta['album']['release_date']\n",
        "  length = meta['duration_ms']\n",
        "  popularity = meta['popularity']\n",
        "\n",
        "  # Get audio features\n",
        "  acousticness = features[0]['acousticness']\n",
        "  danceability = features[0]['danceability']\n",
        "  energy = features[0]['energy']\n",
        "  instrumentalness = features[0]['instrumentalness']\n",
        "  liveness = features[0]['liveness']\n",
        "  loudness = features[0]['loudness']\n",
        "  speechiness = features[0]['speechiness']\n",
        "  tempo = features[0]['tempo']\n",
        "  time_signature = features[0]['time_signature']\n",
        "\n",
        "  track = [name, album, artist, release_date, length, popularity, danceability, acousticness, danceability, energy, instrumentalness, liveness, loudness, speechiness, tempo, time_signature]\n",
        "  return track \n",
        "\n",
        "\n",
        "# Get all tracks of playlist\n",
        "tracks = []\n",
        "for i in range(len(ids)):\n",
        "  track = Playlist_Tracks_Features(ids[i])\n",
        "  tracks.append(track)\n",
        "\n",
        "# create dataset\n",
        "df = pd.DataFrame(tracks, columns = ['Name', 'Album', 'Artist', 'Release_date', 'Length', 'Popularity', 'Danceability', 'Acousticness', 'Danceability', 'Energy', 'Instrumentalness', 'Liveness', 'Loudness', 'Speechiness', 'Tempo', 'Time_signature'])\n",
        "df.to_csv(\"spotify.csv\", sep = ',')\n",
        "\n",
        "df.tail()\n"
      ],
      "execution_count": 14,
      "outputs": [
        {
          "output_type": "execute_result",
          "data": {
            "text/html": [
              "<div>\n",
              "<style scoped>\n",
              "    .dataframe tbody tr th:only-of-type {\n",
              "        vertical-align: middle;\n",
              "    }\n",
              "\n",
              "    .dataframe tbody tr th {\n",
              "        vertical-align: top;\n",
              "    }\n",
              "\n",
              "    .dataframe thead th {\n",
              "        text-align: right;\n",
              "    }\n",
              "</style>\n",
              "<table border=\"1\" class=\"dataframe\">\n",
              "  <thead>\n",
              "    <tr style=\"text-align: right;\">\n",
              "      <th></th>\n",
              "      <th>Name</th>\n",
              "      <th>Album</th>\n",
              "      <th>Artist</th>\n",
              "      <th>Release_date</th>\n",
              "      <th>Length</th>\n",
              "      <th>Popularity</th>\n",
              "      <th>Danceability</th>\n",
              "      <th>Acousticness</th>\n",
              "      <th>Danceability</th>\n",
              "      <th>Energy</th>\n",
              "      <th>Instrumentalness</th>\n",
              "      <th>Liveness</th>\n",
              "      <th>Loudness</th>\n",
              "      <th>Speechiness</th>\n",
              "      <th>Tempo</th>\n",
              "      <th>Time_signature</th>\n",
              "    </tr>\n",
              "  </thead>\n",
              "  <tbody>\n",
              "    <tr>\n",
              "      <th>94</th>\n",
              "      <td>Slow Jamz</td>\n",
              "      <td>The College Dropout</td>\n",
              "      <td>Kanye West</td>\n",
              "      <td>2004-02-13</td>\n",
              "      <td>316053</td>\n",
              "      <td>0</td>\n",
              "      <td>0.569</td>\n",
              "      <td>0.369000</td>\n",
              "      <td>0.569</td>\n",
              "      <td>0.744</td>\n",
              "      <td>0.000000</td>\n",
              "      <td>0.2560</td>\n",
              "      <td>-5.757</td>\n",
              "      <td>0.1810</td>\n",
              "      <td>145.063</td>\n",
              "      <td>4</td>\n",
              "    </tr>\n",
              "    <tr>\n",
              "      <th>95</th>\n",
              "      <td>Someday</td>\n",
              "      <td>The Long Road</td>\n",
              "      <td>Nickelback</td>\n",
              "      <td>2003-09-23</td>\n",
              "      <td>207466</td>\n",
              "      <td>71</td>\n",
              "      <td>0.455</td>\n",
              "      <td>0.000616</td>\n",
              "      <td>0.455</td>\n",
              "      <td>0.858</td>\n",
              "      <td>0.000247</td>\n",
              "      <td>0.2260</td>\n",
              "      <td>-5.659</td>\n",
              "      <td>0.0391</td>\n",
              "      <td>163.118</td>\n",
              "      <td>4</td>\n",
              "    </tr>\n",
              "    <tr>\n",
              "      <th>96</th>\n",
              "      <td>Naughty Girl</td>\n",
              "      <td>Dangerously In Love</td>\n",
              "      <td>Beyoncé</td>\n",
              "      <td>2003-06-24</td>\n",
              "      <td>208573</td>\n",
              "      <td>64</td>\n",
              "      <td>0.588</td>\n",
              "      <td>0.237000</td>\n",
              "      <td>0.588</td>\n",
              "      <td>0.461</td>\n",
              "      <td>0.000015</td>\n",
              "      <td>0.0913</td>\n",
              "      <td>-8.686</td>\n",
              "      <td>0.1610</td>\n",
              "      <td>200.053</td>\n",
              "      <td>4</td>\n",
              "    </tr>\n",
              "    <tr>\n",
              "      <th>97</th>\n",
              "      <td>My Immortal</td>\n",
              "      <td>Fallen</td>\n",
              "      <td>Evanescence</td>\n",
              "      <td>2003-03-04</td>\n",
              "      <td>262533</td>\n",
              "      <td>76</td>\n",
              "      <td>0.190</td>\n",
              "      <td>0.863000</td>\n",
              "      <td>0.190</td>\n",
              "      <td>0.265</td>\n",
              "      <td>0.000000</td>\n",
              "      <td>0.1340</td>\n",
              "      <td>-9.206</td>\n",
              "      <td>0.0356</td>\n",
              "      <td>79.012</td>\n",
              "      <td>4</td>\n",
              "    </tr>\n",
              "    <tr>\n",
              "      <th>98</th>\n",
              "      <td>Sunshine (feat. Lea)</td>\n",
              "      <td>U Gotta Feel Me</td>\n",
              "      <td>Lil' Flip</td>\n",
              "      <td>2004-03-30</td>\n",
              "      <td>225173</td>\n",
              "      <td>63</td>\n",
              "      <td>0.814</td>\n",
              "      <td>0.024800</td>\n",
              "      <td>0.814</td>\n",
              "      <td>0.387</td>\n",
              "      <td>0.000000</td>\n",
              "      <td>0.1310</td>\n",
              "      <td>-9.867</td>\n",
              "      <td>0.0945</td>\n",
              "      <td>93.961</td>\n",
              "      <td>4</td>\n",
              "    </tr>\n",
              "  </tbody>\n",
              "</table>\n",
              "</div>"
            ],
            "text/plain": [
              "                    Name                Album  ...    Tempo Time_signature\n",
              "94             Slow Jamz  The College Dropout  ...  145.063              4\n",
              "95               Someday        The Long Road  ...  163.118              4\n",
              "96          Naughty Girl  Dangerously In Love  ...  200.053              4\n",
              "97           My Immortal               Fallen  ...   79.012              4\n",
              "98  Sunshine (feat. Lea)      U Gotta Feel Me  ...   93.961              4\n",
              "\n",
              "[5 rows x 16 columns]"
            ]
          },
          "metadata": {
            "tags": []
          },
          "execution_count": 14
        }
      ]
    },
    {
      "cell_type": "code",
      "metadata": {
        "id": "5STFiu6-Bu6A"
      },
      "source": [
        "df.to_csv(\"2000_2004.csv\", sep = ',')\n",
        "\n",
        "from google.colab import files\n",
        "import pandas as pd\n"
      ],
      "execution_count": null,
      "outputs": []
    },
    {
      "cell_type": "code",
      "metadata": {
        "colab": {
          "base_uri": "https://localhost:8080/",
          "height": 17
        },
        "id": "W1go3Q92Cm6w",
        "outputId": "e3282a14-ac5b-4d85-d39a-bb9997dec878"
      },
      "source": [
        "df.to_csv('2000_2004.csv')\n",
        "files.download('2000_2004.csv')"
      ],
      "execution_count": null,
      "outputs": [
        {
          "output_type": "display_data",
          "data": {
            "application/javascript": [
              "\n",
              "    async function download(id, filename, size) {\n",
              "      if (!google.colab.kernel.accessAllowed) {\n",
              "        return;\n",
              "      }\n",
              "      const div = document.createElement('div');\n",
              "      const label = document.createElement('label');\n",
              "      label.textContent = `Downloading \"${filename}\": `;\n",
              "      div.appendChild(label);\n",
              "      const progress = document.createElement('progress');\n",
              "      progress.max = size;\n",
              "      div.appendChild(progress);\n",
              "      document.body.appendChild(div);\n",
              "\n",
              "      const buffers = [];\n",
              "      let downloaded = 0;\n",
              "\n",
              "      const channel = await google.colab.kernel.comms.open(id);\n",
              "      // Send a message to notify the kernel that we're ready.\n",
              "      channel.send({})\n",
              "\n",
              "      for await (const message of channel.messages) {\n",
              "        // Send a message to notify the kernel that we're ready.\n",
              "        channel.send({})\n",
              "        if (message.buffers) {\n",
              "          for (const buffer of message.buffers) {\n",
              "            buffers.push(buffer);\n",
              "            downloaded += buffer.byteLength;\n",
              "            progress.value = downloaded;\n",
              "          }\n",
              "        }\n",
              "      }\n",
              "      const blob = new Blob(buffers, {type: 'application/binary'});\n",
              "      const a = document.createElement('a');\n",
              "      a.href = window.URL.createObjectURL(blob);\n",
              "      a.download = filename;\n",
              "      div.appendChild(a);\n",
              "      a.click();\n",
              "      div.remove();\n",
              "    }\n",
              "  "
            ],
            "text/plain": [
              "<IPython.core.display.Javascript object>"
            ]
          },
          "metadata": {
            "tags": []
          }
        },
        {
          "output_type": "display_data",
          "data": {
            "application/javascript": [
              "download(\"download_c3863aab-4cc1-4820-86ee-03ba0d363186\", \"2000_2004.csv\", 12677)"
            ],
            "text/plain": [
              "<IPython.core.display.Javascript object>"
            ]
          },
          "metadata": {
            "tags": []
          }
        }
      ]
    }
  ]
}
